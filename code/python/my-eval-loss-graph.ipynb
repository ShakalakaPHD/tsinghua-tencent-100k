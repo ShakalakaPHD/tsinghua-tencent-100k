{
 "cells": [
  {
   "cell_type": "code",
   "execution_count": 4,
   "metadata": {},
   "outputs": [
    {
     "name": "stdout",
     "output_type": "stream",
     "text": [
      "('>>', '../script/TT100K_TRAIN_90000.log')\n",
      "Start Iteration: iteration=     0, loss=24.198600\n",
      "End   Iteration: iteration= 90000, loss=0.516876\n",
      "Min test loss > iteration= 57900, loss=0.261000\n",
      "Max test loss > iteration=     0, loss=24.198600\n",
      "Top5 min test loss >\n",
      "iteration= 57900, loss=0.261000\n",
      "iteration= 81500, loss=0.296756\n",
      "iteration= 58200, loss=0.311997\n",
      "iteration= 88800, loss=0.321102\n",
      "iteration= 61300, loss=0.325104\n"
     ]
    },
    {
     "data": {
      "image/png": "[encoded data removed]",
      "text/plain": [
       "<Figure size 432x288 with 1 Axes>"
      ]
     },
     "metadata": {
      "needs_background": "light"
     },
     "output_type": "display_data"
    }
   ],
   "source": [
    "import numpy as np\n",
    "import re\n",
    "from cycler import cycler\n",
    "from matplotlib import pylab as plt\n",
    "%matplotlib inline\n",
    "\n",
    "def main():\n",
    "    #files = ['../script/TT100K_TRAIN_01.log', '../script/TT100K_TRAIN_02.log']\n",
    "    files = ['../script/TT100K_TRAIN_90000.log']\n",
    "  \n",
    "    for i, log_file in enumerate(files):\n",
    "        loss_iterations, losses, test_loss_iterations, test_losses, min_test_loss_iterations, min_test_losses = parse_log(log_file)\n",
    "        draw_results(loss_iterations, losses, test_loss_iterations, test_losses, min_test_loss_iterations, min_test_losses, color_ind=i)\n",
    "\n",
    "\n",
    "def parse_log(log_file):\n",
    "    with open(log_file, 'r') as log_file:\n",
    "        log = log_file.read()\n",
    "\n",
    "    loss_pattern = r\"Iteration (?P<iter_num>\\d+), loss = (?P<loss_val>[+-]?(\\d+(\\.\\d*)?|\\.\\d+)([eE][+-]?\\d+)?)\"\n",
    "    losses = []\n",
    "    loss_iterations = []\n",
    "\n",
    "    for r in re.findall(loss_pattern, log):\n",
    "        loss_iterations.append(int(r[0]))\n",
    "        losses.append(float(r[1]))\n",
    "\n",
    "    loss_iterations = np.array(loss_iterations)\n",
    "    losses = np.array(losses)\n",
    "\n",
    "    test_loss_iterations_pattern = r\"Iteration (?P<iter_num>\\d+), Testing net \\(#0\\)\\n\"\n",
    "    test_loss_pattern = r\"Test loss: (?P<loss_val>[+-]?(\\d+(\\.\\d*)?|\\.\\d+)([eE][+-]?\\d+)?)\"\n",
    "    test_losses = []\n",
    "    test_loss_iterations = []\n",
    "\n",
    "    for r in re.findall(test_loss_iterations_pattern, log):\n",
    "        test_loss_iterations.append(int(r))\n",
    "    \n",
    "    for r in re.findall(test_loss_pattern, log):\n",
    "        test_losses.append(float(r[0]))\n",
    "    \n",
    "    test_loss_iterations = np.array(test_loss_iterations)\n",
    "    test_losses = np.array(test_losses)\n",
    "    \n",
    "    min_test_loss_index = np.argmin(test_losses)\n",
    "    max_test_loss_index = np.argmax(test_losses)\n",
    "    \n",
    "    top_n = 5\n",
    "    topn_loss_index = test_losses.argsort()[:top_n]\n",
    "\n",
    "    print(\">>\",log_file.name)\n",
    "    print(\"Start Iteration: iteration=%6d, loss=%.6f\" % (loss_iterations[0], test_losses[0]))\n",
    "    print(\"End   Iteration: iteration=%6d, loss=%.6f\" % (loss_iterations[-1], test_losses[-1]))\n",
    "    print(\"Min test loss > iteration=%6d, loss=%.6f\" % (test_loss_iterations[min_test_loss_index], test_losses[min_test_loss_index]) )\n",
    "    print(\"Max test loss > iteration=%6d, loss=%.6f\" % (test_loss_iterations[max_test_loss_index], test_losses[max_test_loss_index]) )\n",
    "    print(\"Top\"+str(top_n)+\" min test loss >\")\n",
    "    \n",
    "    for i in topn_loss_index:\n",
    "        print(\"iteration=%6d, loss=%.6f\" % (test_loss_iterations[i], test_losses[i]) )\n",
    "    \n",
    "    min_test_losses = []\n",
    "    min_test_loss_iterations = []\n",
    "    \n",
    "    min_test_loss_iterations.append(test_loss_iterations[min_test_loss_index])\n",
    "    min_test_losses.append(test_losses[min_test_loss_index])\n",
    "\n",
    "    return loss_iterations, losses, test_loss_iterations, test_losses, min_test_loss_iterations, min_test_losses\n",
    "\n",
    "\n",
    "def draw_results(loss_iterations, losses, test_loss_iterations, test_losses, min_test_loss_iterations, min_test_losses, color_ind=0):\n",
    "    axes_cycle = ['b', 'g', 'r', 'c', 'm', 'y', 'k']\n",
    "    modula = len(axes_cycle)\n",
    "        \n",
    "    plt.figure()\n",
    "    plt.plot(loss_iterations, losses, color=axes_cycle[0], label='train loss')\n",
    "    plt.plot(test_loss_iterations, test_losses, color=axes_cycle[2], label='test loss')\n",
    "    plt.plot(min_test_loss_iterations, min_test_losses, 'o', color=axes_cycle[3], label='min test loss')\n",
    "    plt.xlabel(\"iteration\")\n",
    "    plt.ylabel(\"loss\")\n",
    "    plt.title(\"train loss vs test loss\")\n",
    "    plt.legend()\n",
    "    plt.grid(True)\n",
    "    \n",
    "    plt.show()\n",
    "\n",
    "if __name__ == '__main__':\n",
    "    main()"
   ]
  }
 ],
 "metadata": {
  "kernelspec": {
   "display_name": "Python 2",
   "language": "python",
   "name": "python2"
  },
  "language_info": {
   "codemirror_mode": {
    "name": "ipython",
    "version": 2
   },
   "file_extension": ".py",
   "mimetype": "text/x-python",
   "name": "python",
   "nbconvert_exporter": "python",
   "pygments_lexer": "ipython2",
   "version": "2.7.12"
  }
 },
 "nbformat": 4,
 "nbformat_minor": 2
}
